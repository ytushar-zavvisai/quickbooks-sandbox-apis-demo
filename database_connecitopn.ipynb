{
 "cells": [
  {
   "cell_type": "code",
   "execution_count": 1,
   "id": "ade2e7df",
   "metadata": {},
   "outputs": [
    {
     "name": "stdout",
     "output_type": "stream",
     "text": [
      "❌ Failed to connect to the database.\n",
      "Error: ('HYT00', '[HYT00] [Microsoft][ODBC Driver 18 for SQL Server]Login timeout expired (0) (SQLDriverConnect)')\n"
     ]
    }
   ],
   "source": [
    "import pyodbc\n",
    "\n",
    "# Connection string details\n",
    "server = 'tcp:zavvis-sql-server.database.windows.net,1433'\n",
    "database = 'zavvis_db_dev'\n",
    "username = 'CloudSA67c59d11'\n",
    "password = 'Zavvis$2025'  # 🔐 Replace with your actual password\n",
    "driver = '{ODBC Driver 18 for SQL Server}'\n",
    "\n",
    "# Construct connection string\n",
    "connection_string = f'''\n",
    "    DRIVER={driver};\n",
    "    SERVER={server};\n",
    "    DATABASE={database};\n",
    "    UID={username};\n",
    "    PWD={password};\n",
    "    Encrypt=yes;\n",
    "    TrustServerCertificate=no;\n",
    "    Connection Timeout=30;\n",
    "'''\n",
    "\n",
    "# Try connecting\n",
    "try:\n",
    "    with pyodbc.connect(connection_string) as conn:\n",
    "        print(\"✅ Connection to the database was successful!\")\n",
    "        cursor = conn.cursor()\n",
    "        cursor.execute(\"SELECT GETDATE();\")\n",
    "        row = cursor.fetchone()\n",
    "        print(\"🕒 Current DB time:\", row[0])\n",
    "except Exception as e:\n",
    "    print(\"❌ Failed to connect to the database.\")\n",
    "    print(\"Error:\", e)"
   ]
  },
  {
   "cell_type": "code",
   "execution_count": null,
   "id": "4b27b420",
   "metadata": {},
   "outputs": [],
   "source": []
  }
 ],
 "metadata": {
  "kernelspec": {
   "display_name": ".venv",
   "language": "python",
   "name": "python3"
  },
  "language_info": {
   "codemirror_mode": {
    "name": "ipython",
    "version": 3
   },
   "file_extension": ".py",
   "mimetype": "text/x-python",
   "name": "python",
   "nbconvert_exporter": "python",
   "pygments_lexer": "ipython3",
   "version": "3.10.16"
  }
 },
 "nbformat": 4,
 "nbformat_minor": 5
}
